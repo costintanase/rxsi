{
 "cells": [
  {
   "cell_type": "markdown",
   "metadata": {},
   "source": [
    "* ubuntu 22 under WSL version: 1.2.5.0\n",
    "* python 3.10\n",
    "* Mojo installed under WSL\n",
    "* ipynb running the modular's mojo 0.6\n",
    "* VC started from Windows\n",
    "- on my Windows 10 machine\n",
    "- kernel ~/.modular/pkg/packages.modular.com_mojo/venv/bin/python\n",
    "- port 36719, fwd adrs 127.0.,0.1:36719, code extension host (511)\n",
    "- port 39509, fwd addr 127.0.0.1:39509,\n",
    "    /home/tanc/.modular/pkg/packages.modular.com_mojo/venv/bin/python\n",
    "- running it as .ipynb with the rempote WSL: Ubuntu 22-04 Extension enabled"
   ]
  },
  {
   "cell_type": "markdown",
   "metadata": {},
   "source": [
    "#### Tasks\n",
    "* file system traversal"
   ]
  },
  {
   "cell_type": "code",
   "execution_count": null,
   "metadata": {},
   "outputs": [],
   "source": [
    "# comunicating with Python\n",
    "from python import Python\n",
    "# i do not know better, so i enclose all in a main (??) good enough for now\n",
    "fn main() raises:\n",
    "    \n",
    "    if(True): # Python imports\n",
    "        let sys = Python.import_module(\"sys\")\n",
    "        let pth = Python.import_module(\"pathlib\")\n",
    "        let os = Python.import_module(\"os\")\n",
    "        let pd = Python.import_module(\"pandas\")\n",
    "        let np = Python.import_module(\"numpy\")\n",
    "\n",
    "    # checking flag, ifdo, \"IF true DO the checking\"\n",
    "    let ifdo = False\n",
    "    if(ifdo):\n",
    "        print(pd.show_versions())\n",
    "        print(pd.Series([1,2,3]))\n",
    "\n",
    "    # a step in the greater view: exam_folder - series_folder - image_files\n",
    "    fn find_all_subldr_lvl1(pnam: String) raises -> PythonObject:\n",
    "        '''construct the list(?) of all folders under the folder pnam'''\n",
    "        # check pnam\n",
    "        if(not(os.path.isdir(pnam))):\n",
    "            return(np.array(['']))\n",
    "        # klumsy kludge to init empty\n",
    "        var B = np.delete(np.array(['']), 0)\n",
    "        \n",
    "        var A = np.array(os.listdir(pnam))\n",
    "        for a in A:\n",
    "            let tmp = os.path.join(pnam, a)\n",
    "            if(os.path.isdir(tmp)):\n",
    "                B = np.append(B, tmp)\n",
    "        return(np.delete(B, 0))\n",
    "\n",
    "    fn find_all_dcm(pnam: String) raises -> PythonObject:\n",
    "        '''construct the list(?) of all dcm's under the folder pnam'''\n",
    "        # check pnam\n",
    "        if(not(os.path.isdir(pnam))):\n",
    "            return(np.array(['']))\n",
    "        # klumsy kludge to init empty\n",
    "        var B = np.delete(np.array(['']), 0)\n",
    "        \n",
    "        var A = np.array(os.listdir(pnam))\n",
    "        for a in A:\n",
    "            let tmp = os.path.join(pnam, a)\n",
    "            #print(os.path.isfile(tmp))\n",
    "            B = np.append(B, tmp)\n",
    "\n",
    "        return(B)\n",
    "    \n",
    "\n",
    "\n",
    "    var xam_dir = find_all_subldr_lvl1(\"my_location\")\n",
    "    print(xam_dir)\n",
    "    for d in xam_dir:\n",
    "        print(\"d=:\", d)\n",
    "        print(find_all_dcm(str(d)))\n",
    "\n",
    "######\n",
    "\n",
    "# zeig dich\n",
    "main()\n"
   ]
  },
  {
   "cell_type": "markdown",
   "metadata": {},
   "source": [
    "well..."
   ]
  }
 ],
 "metadata": {
  "kernelspec": {
   "display_name": "Mojo",
   "language": "mojo",
   "name": "mojo-jupyter-kernel"
  },
  "language_info": {
   "codemirror_mode": {
    "name": "mojo"
   },
   "file_extension": ".mojo",
   "mimetype": "text/x-mojo",
   "name": "mojo"
  }
 },
 "nbformat": 4,
 "nbformat_minor": 2
}
